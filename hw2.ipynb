{
 "cells": [
  {
   "cell_type": "markdown",
   "metadata": {},
   "source": [
    "---\n",
    "\n",
    "# CSCI 3202, Spring 2022\n",
    "# Homework 2\n",
    "# Due: Friday February 18, 2022 at 6:00 PM\n",
    "\n",
    "<br> \n",
    "\n",
    "### Your name: Téa Wright\n",
    "\n",
    "<br> "
   ]
  },
  {
   "cell_type": "markdown",
   "metadata": {},
   "source": [
    "---\n",
    "This homework requires that you install a few packages and libraries. **Before you start this assigment, read over the entire [github README](https://github.com/coloradointroai/hw_spring_2022).** Set yourself up early so you have the time to work through any bugs. Corrections will be made to the coloradointroai github if needed, pull often and check for updates regularly."
   ]
  },
  {
   "cell_type": "code",
   "execution_count": 1,
   "metadata": {},
   "outputs": [],
   "source": [
    "import os\n",
    "import sys\n",
    "\n",
    "# Allows this jupyter notebook to access the python code in ../colorado_intro_ai/*\n",
    "module_path = os.path.abspath(os.path.join('..'))\n",
    "if module_path not in sys.path:\n",
    "    sys.path.append(module_path)\n",
    "\n",
    "\n",
    "# You need to complete #3 of the recommended setup before you change code in each class. Look at the README for information.\n",
    "from colorado_intro_ai.hw2.robot import Robot"
   ]
  },
  {
   "cell_type": "markdown",
   "metadata": {},
   "source": [
    "---\n",
    "## Problem 1 - A* Search By Hand Problem"
   ]
  },
  {
   "cell_type": "markdown",
   "metadata": {},
   "source": [
    "Use the graph below to implement A* Search to find the shortest path from node S to node G. Heuristic values are shown in red above each node. Step costs between nodes are shown near each respective edge in black.\n",
    "\n",
    "![](../imgs/graph.png)\n",
    "\n",
    "More specifics: Go through the A* algorithm by hand to determine the path that should be taken from $S$ to $G$. Fill in the table below to show the updated explored set and frontier with each iteration. The first iteration is done for you so that you can see the notation that is expected. If there are any ties, break them in alphabetical order."
   ]
  },
  {
   "cell_type": "markdown",
   "metadata": {},
   "source": [
    "| Explored Nodes | Frontier Nodes/Paths & f values  |\n",
    "| :- | -: |\n",
    "| $ $ | $(S,13)$ |\n",
    "| $S$ | $(A,14),(B,16),(C,17)$ |\n",
    "| $A$ | $(B,16),(D,16),(C,17)$ |\n",
    "| $B$ | $(D,16),(C,17)$ |\n",
    "| $D$ | $(C,17),(E,17)$ |\n",
    "| $C$ | $(E,17),(F,22)$ |\n",
    "| $E$ | $(F,22),(G,23)$ |\n",
    "| $F$ | $(G,23)$ | \n",
    "| $G$ | "
   ]
  },
  {
   "cell_type": "markdown",
   "metadata": {},
   "source": [
    "---\n",
    "## Problem 2 - A* Search Coding Problem"
   ]
  },
  {
   "cell_type": "markdown",
   "metadata": {},
   "source": [
    "The A* objective function is expressed as $f(n) = g(n) + h(n)$, where $f(n)$ is the estimated cost to get form the start node to the goal node going through node $n$. $g(n)$ is the cost to get from the start to node $n$ and $h(n)$ is the estimated cost to move from node $n$ to the goal node. $h(n)$ is also known as a $\\textit{heuristic}$ function. \n",
    "\n",
    "Familiarize yourself with the classes and documention linked below. You will implement your solutions to this problem inside of the [pathSolver.py](https://github.com/coloradointroai/hw_spring_2022/blob/master/colorado_intro_ai/hw2/pathSolver.py) class file in the cloned repository on your computer. \n",
    "\n",
    "## Links\n",
    "* [Robot class file](https://github.com/coloradointroai/hw_spring_2022/blob/master/colorado_intro_ai/hw2/robot.py)\n",
    "* [Enviornment class file](https://github.com/coloradointroai/hw_spring_2022/blob/master/colorado_intro_ai/hw2/enviornment.py)\n",
    "* [PathSolver class file](https://github.com/coloradointroai/hw_spring_2022/blob/master/colorado_intro_ai/hw2/pathSolver.py)\n",
    "* [Colorado intro ai documentation](https://coloradointroai.github.io)\n",
    "\n",
    "### Usage examples"
   ]
  },
  {
   "cell_type": "code",
   "execution_count": 2,
   "metadata": {},
   "outputs": [
    {
     "name": "stdout",
     "output_type": "stream",
     "text": [
      "calliing BFS\n"
     ]
    },
    {
     "data": {
      "image/png": "[encoded data removed]",
      "text/plain": [
       "<Figure size 432x288 with 1 Axes>"
      ]
     },
     "metadata": {
      "needs_background": "light"
     },
     "output_type": "display_data"
    },
    {
     "name": "stdout",
     "output_type": "stream",
     "text": [
      "calliing BFS\n"
     ]
    },
    {
     "data": {
      "image/png": "[encoded data removed]",
      "text/plain": [
       "<Figure size 432x288 with 1 Axes>"
      ]
     },
     "metadata": {
      "needs_background": "light"
     },
     "output_type": "display_data"
    },
    {
     "name": "stdout",
     "output_type": "stream",
     "text": [
      "calliing BFS\n",
      "Empty path given to show_env_and_path()\n",
      "calliing BFS\n",
      "Empty path given to show_env_and_path()\n",
      "calliing BFS\n"
     ]
    },
    {
     "data": {
      "image/png": "[encoded data removed]",
      "text/plain": [
       "<Figure size 432x288 with 1 Axes>"
      ]
     },
     "metadata": {
      "needs_background": "light"
     },
     "output_type": "display_data"
    },
    {
     "name": "stdout",
     "output_type": "stream",
     "text": [
      "calliing BFS\n"
     ]
    },
    {
     "data": {
      "image/png": "[encoded data removed]",
      "text/plain": [
       "<Figure size 432x288 with 1 Axes>"
      ]
     },
     "metadata": {
      "needs_background": "light"
     },
     "output_type": "display_data"
    },
    {
     "name": "stdout",
     "output_type": "stream",
     "text": [
      "calliing BFS\n",
      "Empty path given to show_env_and_path()\n",
      "calliing BFS\n"
     ]
    },
    {
     "data": {
      "image/png": "[encoded data removed]",
      "text/plain": [
       "<Figure size 432x288 with 1 Axes>"
      ]
     },
     "metadata": {
      "needs_background": "light"
     },
     "output_type": "display_data"
    },
    {
     "name": "stdout",
     "output_type": "stream",
     "text": [
      "calliing BFS\n",
      "Empty path given to show_env_and_path()\n",
      "calliing BFS\n",
      "Empty path given to show_env_and_path()\n",
      "calliing BFS\n",
      "Empty path given to show_env_and_path()\n",
      "calliing BFS\n"
     ]
    },
    {
     "data": {
      "image/png": "[encoded data removed]",
      "text/plain": [
       "<Figure size 432x288 with 1 Axes>"
      ]
     },
     "metadata": {
      "needs_background": "light"
     },
     "output_type": "display_data"
    },
    {
     "name": "stdout",
     "output_type": "stream",
     "text": [
      "calliing BFS\n"
     ]
    },
    {
     "data": {
      "image/png": "[encoded data removed]",
      "text/plain": [
       "<Figure size 432x288 with 1 Axes>"
      ]
     },
     "metadata": {
      "needs_background": "light"
     },
     "output_type": "display_data"
    },
    {
     "name": "stdout",
     "output_type": "stream",
     "text": [
      "calliing BFS\n",
      "Empty path given to show_env_and_path()\n",
      "calliing BFS\n",
      "Empty path given to show_env_and_path()\n",
      "calliing BFS\n"
     ]
    },
    {
     "data": {
      "image/png": "[encoded data removed]",
      "text/plain": [
       "<Figure size 432x288 with 1 Axes>"
      ]
     },
     "metadata": {
      "needs_background": "light"
     },
     "output_type": "display_data"
    },
    {
     "name": "stdout",
     "output_type": "stream",
     "text": [
      "calliing BFS\n"
     ]
    },
    {
     "data": {
      "image/png": "[encoded data removed]",
      "text/plain": [
       "<Figure size 432x288 with 1 Axes>"
      ]
     },
     "metadata": {
      "needs_background": "light"
     },
     "output_type": "display_data"
    },
    {
     "name": "stdout",
     "output_type": "stream",
     "text": [
      "calliing BFS\n",
      "Empty path given to show_env_and_path()\n",
      "calliing BFS\n",
      "Empty path given to show_env_and_path()\n",
      "calliing BFS\n"
     ]
    },
    {
     "data": {
      "image/png": "[encoded data removed]",
      "text/plain": [
       "<Figure size 432x288 with 1 Axes>"
      ]
     },
     "metadata": {
      "needs_background": "light"
     },
     "output_type": "display_data"
    }
   ],
   "source": [
    "\n",
    "start = (0, 0)\n",
    "goal = (8, 9)\n",
    "robot = Robot()\n",
    "\n",
    "for i in range(10):\n",
    "    path = robot.path_solver.breadth_first_search((0,7), (7, 1), robot.env.edge_weights_2)\n",
    "    robot.show_env_and_path(path)\n",
    "\n",
    "    robot.refresh_env()\n",
    "\n",
    "    path, cost = robot.path_solver.breadth_first_search(start, goal, robot.env.edge_weights_2, return_cost=True)\n",
    "    robot.show_env_and_path(path)\n",
    "    robot.refresh_env\n",
    "    # print(cost)\n",
    "\n"
   ]
  },
  {
   "cell_type": "markdown",
   "metadata": {},
   "source": [
    "### PART 2A) \n",
    "Implement the first three functions in [pathSolver.py](https://github.com/coloradointroai/hw_spring_2022/blob/master/colorado_intro_ai/hw2/pathSolver.py), you should copy your code from homework 1 and make the required changes to fit the function declaration. \n",
    "\n",
    "Note that breadth_first_search is already completed for you. So really you just need to implement depth_first_search and uniform_cost_search in pathSolver.py. \n",
    "\n",
    "In the cells below, demonstrate that each of the functions work by invoking each function using the `Robot` class as seen in the example above. For each algorithm, include the following:\n",
    "\n",
    "- I) a visualization of the solved env using `show_env_and_path` and \n",
    "- II) the cost of each path in table (see the sample table below for how to format table rows and columns)\n",
    "\n",
    "\n",
    "| this | is   |\n",
    "|------|------|\n",
    "|   a  | table|\n",
    "\n"
   ]
  },
  {
   "cell_type": "markdown",
   "metadata": {},
   "source": []
  },
  {
   "cell_type": "code",
   "execution_count": null,
   "metadata": {},
   "outputs": [],
   "source": []
  },
  {
   "cell_type": "code",
   "execution_count": 3,
   "metadata": {},
   "outputs": [],
   "source": [
    "from collections import deque\n",
    "import heapq\n",
    "from math import sqrt\n",
    "\n",
    "class Frontier_PQ:\n",
    "    def __init__(self,start,cost):\n",
    "        self.start = start\n",
    "        self.cost = cost\n",
    "        self.states = {}\n",
    "        self.q = [(cost,start)]   # reversed the order to match add\n",
    "        \n",
    "    def add(self,state,cost):\n",
    "        self.q.append((cost, state))\n",
    "        self.states[state] = cost\n",
    "        \n",
    "    def pop(self):\n",
    "        return heapq.heappop(self.q) \n",
    "    \n",
    "    def replace(self,state,cost):\n",
    "        if cost > self.states[state]:\n",
    "            self.states[state] = cost\n",
    "            \n",
    "\"\"\"\n",
    " Class PathSolver\n",
    "\"\"\"\n",
    "\n",
    "# Create PathSolver Class\n",
    "\n",
    "\n",
    "class PathSolver:\n",
    "    \"\"\"Contains methods to solve multiple path search algorithms\"\"\"\n",
    "\n",
    "    # init for PathSolver Class\n",
    "    def __init__(self):\n",
    "        \"\"\"Create PathSolver\"\"\"\n",
    "\n",
    "    def path(self, previous, s): \n",
    "        \"\"\"\n",
    "        `previous` is a dictionary chaining together the predecessor state that led to each state\n",
    "        `s` will be None for the initial state\n",
    "        otherwise, start from the last state `s` and recursively trace `previous` back to the initial state,\n",
    "        constructing a list of states visited as we go\n",
    "        \"\"\" \n",
    "        \n",
    "        if s is None:\n",
    "            return []\n",
    "        else:\n",
    "            return self.path(previous, previous[s])+[s]\n",
    "\n",
    "    def pathcost(self, path, step_costs):\n",
    "        \"\"\"add up the step costs along a path, which is assumed to be a list output from the `path` function above\"\"\"\n",
    "        \n",
    "        cost = 0\n",
    "        for s in range(len(path)-1):\n",
    "            cost += step_costs[path[s]][path[s+1]]\n",
    "        return cost\n",
    "    \n",
    "\n",
    "    def breadth_first_search(self,start: tuple, goal, state_graph, return_cost=False):\n",
    "        \"\"\" find a shortest sequence of states from start to the goal \"\"\"\n",
    "        print(\"calliing BFS\")\n",
    "        \n",
    "        frontier = deque([start]) # doubly-ended queue of states\n",
    "        previous = {start: None}  # start has no previous state; other states will\n",
    "        \n",
    "        # Return on start is goal\n",
    "        if start == goal:\n",
    "            path_out = [start]\n",
    "            if return_cost: \n",
    "                return path_out, self.pathcost(path_out, state_graph)\n",
    "            return path_out\n",
    "\n",
    "        # loop through frontine searching nodes until we find a goal\n",
    "        while frontier:\n",
    "            s = frontier.popleft()\n",
    "            for s2 in state_graph[s]:\n",
    "                if (s2 not in previous) and (s2 not in frontier):\n",
    "                    frontier.append(s2)\n",
    "                    previous[s2] = s\n",
    "                    if s2 == goal:\n",
    "                        path_out = self.path(previous, s2)\n",
    "                        if return_cost: return path_out, self.pathcost(path_out, state_graph)\n",
    "                        return path_out\n",
    "        \n",
    "        # no solution\n",
    "        if return_cost:\n",
    "            return [], 0\n",
    "        else: \n",
    "            return []\n",
    "\n",
    "\n",
    "    def depth_first_search(self,start: tuple, goal, state_graph, return_cost=False):\n",
    "        print(\"calling DFS\")\n",
    "        \n",
    "        frontier = []\n",
    "        frontier.append(start)\n",
    "        previous = {start: None}  # start has no previous state; other states will\n",
    "        \n",
    "        # Return on start is goal\n",
    "        if start == goal:\n",
    "            path_out = [start]\n",
    "            if return_cost: \n",
    "                return path_out, self.pathcost(path_out, state_graph)\n",
    "            return path_out\n",
    "\n",
    "        # loop through frontine searching nodes until we find a goal\n",
    "        while frontier:\n",
    "            s = frontier.pop(-1)\n",
    "            for s2 in state_graph[s]:\n",
    "                if (s2 not in previous) and (s2 not in frontier):\n",
    "                    frontier.append(s2)\n",
    "                    previous[s2] = s\n",
    "                    if s2 == goal:\n",
    "                        path_out = self.path(previous, s2)\n",
    "                        if return_cost: \n",
    "                            return path_out, self.pathcost(path_out, state_graph)\n",
    "                        return path_out\n",
    "        \n",
    "        # no solution\n",
    "        if return_cost:\n",
    "            return [], 0\n",
    "        else: \n",
    "            return []\n",
    "        \n",
    "\n",
    "    def uniform_cost_search(self,start: tuple, goal, state_graph, return_cost=False):\n",
    "        print(\"calling UCS\")\n",
    "        \n",
    "        f = Frontier_PQ(start,0)\n",
    "        visited = {}\n",
    "        previous = {}\n",
    "        previous[start]=None\n",
    "\n",
    "        while f.q:\n",
    "            cost,current = f.pop()\n",
    "\n",
    "            if current:\n",
    "\n",
    "                if current == goal: \n",
    "                    path_out = self.path(previous, goal)\n",
    "                    if return_cost: \n",
    "                        return path_out, self.pathcost(path_out, state_graph)\n",
    "                    return path_out\n",
    "\n",
    "                visited[current] = cost\n",
    "\n",
    "                for adj in state_graph[current]:\n",
    "                    total_cost = visited[current] + state_graph[current][adj]\n",
    "\n",
    "                    if adj not in visited:\n",
    "                        if adj not in f.states:\n",
    "                            f.add(adj, total_cost)\n",
    "                            previous[adj] = current\n",
    "\n",
    "                    elif adj in f.states: \n",
    "                        if f.states[adj] > total_cost:\n",
    "                            f.replace(adj,total_cost)\n",
    "                            previous[adj] = current\n",
    "\n",
    "        \n",
    "        if return_cost: \n",
    "            return [], 0\n",
    "        else:\n",
    "            return []"
   ]
  },
  {
   "cell_type": "code",
   "execution_count": 4,
   "metadata": {},
   "outputs": [
    {
     "name": "stdout",
     "output_type": "stream",
     "text": [
      "calliing BFS\n"
     ]
    },
    {
     "data": {
      "image/png": "[encoded data removed]",
      "text/plain": [
       "<Figure size 432x288 with 1 Axes>"
      ]
     },
     "metadata": {
      "needs_background": "light"
     },
     "output_type": "display_data"
    },
    {
     "name": "stdout",
     "output_type": "stream",
     "text": [
      "calliing BFS\n",
      "Cost:  540\n",
      "calliing DFS\n"
     ]
    },
    {
     "data": {
      "image/png": "[encoded data removed]",
      "text/plain": [
       "<Figure size 432x288 with 1 Axes>"
      ]
     },
     "metadata": {
      "needs_background": "light"
     },
     "output_type": "display_data"
    },
    {
     "name": "stdout",
     "output_type": "stream",
     "text": [
      "calliing DFS\n",
      "Cost:  587\n",
      "calling UCS\n"
     ]
    },
    {
     "data": {
      "image/png": "[encoded data removed]",
      "text/plain": [
       "<Figure size 432x288 with 1 Axes>"
      ]
     },
     "metadata": {
      "needs_background": "light"
     },
     "output_type": "display_data"
    },
    {
     "name": "stdout",
     "output_type": "stream",
     "text": [
      "calling UCS\n",
      "Cost:  478\n"
     ]
    }
   ],
   "source": [
    "start = (0, 7)\n",
    "goal = (7, 1)\n",
    "robot = Robot()\n",
    "\n",
    "#bfs\n",
    "path = robot.path_solver.breadth_first_search(start, goal, robot.env.edge_weights_2)\n",
    "robot.show_env_and_path(path)\n",
    "print(\"Cost: \",robot.path_solver.breadth_first_search(start, goal, robot.env.edge_weights_2, return_cost=True)[1])\n",
    "\n",
    "#dfs\n",
    "path = robot.path_solver.depth_first_search(start, goal, robot.env.edge_weights_2)\n",
    "robot.show_env_and_path(path)\n",
    "print(\"Cost: \",robot.path_solver.depth_first_search(start, goal, robot.env.edge_weights_2, return_cost=True)[1])\n",
    "\n",
    "#ucs\n",
    "path = robot.path_solver.uniform_cost_search(start, goal, robot.env.edge_weights_2)\n",
    "robot.show_env_and_path(path)\n",
    "print(\"Cost: \",robot.path_solver.uniform_cost_search(start, goal, robot.env.edge_weights_2, return_cost=True)[1])"
   ]
  },
  {
   "cell_type": "markdown",
   "metadata": {},
   "source": [
    "| Algorithm | Path Cost  |\n",
    "|------|------|\n",
    "|   BFS  | 540 |\n",
    "|   DFS  | 587 |\n",
    "|   UCS  | 478 |"
   ]
  },
  {
   "cell_type": "markdown",
   "metadata": {},
   "source": [
    "### PART 2B)\n",
    "\n",
    "Implement the function `a_star_euclidian` in [pathSolver.py](https://github.com/coloradointroai/hw_spring_2022/blob/master/colorado_intro_ai/hw2/pathSolver.py). The function should return the f(n), where $f(n) = g(n) + h(n)$. Demonstrate your function works by calling it using the `Robot` class. \n",
    "\n",
    "For full credit include the following:\n",
    "\n",
    "- I) a visualization of the original and solved env using `show_env_and_path` \n",
    "- II) Explain what benefits this algorithm has over bfs, dfs, and ucs.\n",
    "\n",
    "#### Function Details\n",
    "The A* objective function is $f(n) = g(n) + h(n)$. In this implementation $h(n) = \\sqrt{(x_g - x_n)^2 + (y_g - y_n)^2}$. In this equation; $x_g$ and $x_n$ represent the column location of goal and current node, repectively. The variables $y_g$ and $y_n$ are the row values of each node."
   ]
  },
  {
   "cell_type": "markdown",
   "metadata": {},
   "source": []
  },
  {
   "cell_type": "code",
   "execution_count": 5,
   "metadata": {},
   "outputs": [],
   "source": [
    "def a_star_euclidian(self,start: tuple, goal, state_graph, return_cost=False):\n",
    "        f = Frontier_PQ(start,0)\n",
    "        visited = {}\n",
    "        previous = {}\n",
    "        previous[start]=None\n",
    "\n",
    "        while f.q:\n",
    "            cost,current = f.pop()\n",
    "\n",
    "            if current:\n",
    "                \n",
    "                h = sqrt((goal[1][0] - current[1][0])**2 + (goal[1][1]-current[1][1])**2)\n",
    "                \n",
    "                if current == goal: \n",
    "                    path_out = self.path(previous, goal)\n",
    "                    if return_cost: return path_out, self.pathcost(path_out, state_graph)\n",
    "                    return path_out\n",
    "\n",
    "                visited[current] = cost\n",
    "\n",
    "                for adj in state_graph[current]:\n",
    "                    total_cost = visited[current] + state_graph[current][adj]\n",
    "\n",
    "                    if adj not in visited:\n",
    "                        if adj not in f.states:\n",
    "                            f.add(adj, total_cost)\n",
    "                            previous[adj] = current\n",
    "\n",
    "                    elif adj in f.states: \n",
    "                        if f.states[adj] > (total_cost + h):\n",
    "                            f.replace(adj,total_cost)\n",
    "                            previous[adj] = current\n",
    "\n",
    "        if return_cost: \n",
    "            return [], 0\n",
    "        else:\n",
    "            return []"
   ]
  },
  {
   "cell_type": "code",
   "execution_count": 6,
   "metadata": {},
   "outputs": [
    {
     "data": {
      "image/png": "[encoded data removed]",
      "text/plain": [
       "<Figure size 432x288 with 1 Axes>"
      ]
     },
     "metadata": {
      "needs_background": "light"
     },
     "output_type": "display_data"
    },
    {
     "data": {
      "image/png": "[encoded data removed]",
      "text/plain": [
       "<Figure size 432x288 with 1 Axes>"
      ]
     },
     "metadata": {
      "needs_background": "light"
     },
     "output_type": "display_data"
    },
    {
     "name": "stdout",
     "output_type": "stream",
     "text": [
      "Cost:  478\n"
     ]
    }
   ],
   "source": [
    "robot.show_env()\n",
    "path = robot.path_solver.a_star_euclidian(start, goal, robot.env.edge_weights_2)\n",
    "robot.show_env_and_path(path)\n",
    "print(\"Cost: \",robot.path_solver.a_star_euclidian(start, goal, robot.env.edge_weights_2, return_cost=True)[1])"
   ]
  },
  {
   "cell_type": "markdown",
   "metadata": {},
   "source": [
    "II) This algorithm's benefits over BFS, DFS, and UCS is that, while UCS finds the shortest path, it expands more nodes in the process. A* minimizes the number of expanded nodes, making it more efficient while still finding an optimal solution (as long as the heuristic is admissible). "
   ]
  },
  {
   "cell_type": "markdown",
   "metadata": {},
   "source": [
    "### PART 2C)\n",
    "\n",
    "Implement the function `a_star_manhattan` in [pathSolver.py](https://github.com/coloradointroai/hw_spring_2022/blob/master/colorado_intro_ai/hw2/pathSolver.py). Demonstrate your function works by calling it using the `Robot` class. \n",
    "\n",
    "For full credit include the following:\n",
    "\n",
    "- I) A visualization of the original and solved env using `show_env_and_path`, include the path cost.\n",
    "- II) You must create and use a private class function within `a_star_manhattan` that computes the value of $h(x)$. You pick the private function name. \n",
    "- III) Give a short explanation of why you would create a private function within a class in a personal project you are sharing with a friend.\n",
    "\n",
    "#### Function Details\n",
    "The A* objective function is $f(n) = g(n) + h(n)$. In this implementation $h(n) = (x_g - x_n) + (y_g - y_n)$. In this equation; $x_g$ and $x_n$ represent the column location of goal and current node, repectively. The variables $y_g$ and $y_n$ are the row values of each node. The robot _CAN_ still move in all 8 directions."
   ]
  },
  {
   "cell_type": "code",
   "execution_count": 7,
   "metadata": {},
   "outputs": [],
   "source": [
    " def a_star_manhattan(self,start: tuple, goal, state_graph, return_cost=False):\n",
    "        f = Frontier_PQ(start,0)\n",
    "        visited = {}\n",
    "        previous = {}\n",
    "        previous[start]=None\n",
    "\n",
    "        while f.q:\n",
    "            cost,current = f.pop()\n",
    "\n",
    "            if current:\n",
    "        \n",
    "                def heuristic(goal, current):\n",
    "                    return (goal[0] - current[0]) + (goal[1]-current[1])\n",
    "                \n",
    "                h = heuristic(goal,current)\n",
    "                \n",
    "                if current == goal: \n",
    "                    path_out = self.path(previous, goal)\n",
    "                    if return_cost: return path_out, self.pathcost(path_out, state_graph)\n",
    "                    return path_out\n",
    "\n",
    "                visited[current] = cost\n",
    "\n",
    "                for adj in state_graph[current]:\n",
    "                    total_cost = visited[current] + state_graph[current][adj]\n",
    "\n",
    "                    if adj not in visited:\n",
    "                        if adj not in f.states:\n",
    "                            f.add(adj, total_cost)\n",
    "                            previous[adj] = current\n",
    "\n",
    "                    elif adj in f.states:\n",
    "                        if f.states[adj] > (total_cost + h):\n",
    "                            f.replace(adj,total_cost)\n",
    "                            previous[adj] = current\n",
    "\n",
    "        if return_cost: \n",
    "            return [], 0\n",
    "        else:\n",
    "            return []"
   ]
  },
  {
   "cell_type": "code",
   "execution_count": 8,
   "metadata": {
    "scrolled": true
   },
   "outputs": [
    {
     "data": {
      "image/png": "[encoded data removed]",
      "text/plain": [
       "<Figure size 432x288 with 1 Axes>"
      ]
     },
     "metadata": {
      "needs_background": "light"
     },
     "output_type": "display_data"
    },
    {
     "data": {
      "image/png": "[encoded data removed]",
      "text/plain": [
       "<Figure size 432x288 with 1 Axes>"
      ]
     },
     "metadata": {
      "needs_background": "light"
     },
     "output_type": "display_data"
    },
    {
     "name": "stdout",
     "output_type": "stream",
     "text": [
      "Cost:  478\n"
     ]
    }
   ],
   "source": [
    "robot.show_env()\n",
    "path = robot.path_solver.a_star_manhattan(start, goal, robot.env.edge_weights_2)\n",
    "robot.show_env_and_path(path)\n",
    "print(\"Cost: \",robot.path_solver.a_star_manhattan(start, goal, robot.env.edge_weights_2, return_cost=True)[1])"
   ]
  },
  {
   "cell_type": "markdown",
   "metadata": {},
   "source": [
    "III) Creating a private function within a class in a personal project you are sharing with a friend would be helpful, as it could be reused much easier than the alternatives."
   ]
  },
  {
   "cell_type": "markdown",
   "metadata": {},
   "source": [
    "# Problem 3 - Heuristics\n",
    "\n",
    "- For questions 3A, 3B, 3C, and 3D answer True or False and provide a brief explanation, or a counterexample where applicable.\n",
    "\n",
    "- For question 3E, provide a brief explanation.\n",
    "\n",
    "### Part 3A. \n",
    "Depth-first search always expands at least as many nodes as A* search with an admissible heuristic."
   ]
  },
  {
   "cell_type": "markdown",
   "metadata": {},
   "source": [
    "False: There are cases in which DFS expands less nodes than A* because DFS goes down the branch of the tree/graph containing the goal by luck."
   ]
  },
  {
   "cell_type": "markdown",
   "metadata": {},
   "source": [
    "### Part 3B. \n",
    "Uniform cost search always expands at least as many nodes as A* search with an admissible heuristic."
   ]
  },
  {
   "cell_type": "markdown",
   "metadata": {},
   "source": [
    "True: Uniform cost search is A* search with heuristic 0, which is admissible. It will either do the same or worse than an A* search with an admissible heuristic. "
   ]
  },
  {
   "cell_type": "markdown",
   "metadata": {},
   "source": [
    "### Part 3C. \n",
    "In the game of chess, in a single move, a rook can move any number of squares on a chessboard in a straight line, either vertically or horizontally, but cannot jump over other pieces. Manhattan distance is an admissible heuristic for the smallest number of moves required to move the rook from square A to square B."
   ]
  },
  {
   "cell_type": "markdown",
   "metadata": {},
   "source": [
    "False: The Manhattan distance is not an admissible heuristic, as it may overestimate the remaining number of moves to the goal since a rook can cover more than one square in one move. "
   ]
  },
  {
   "cell_type": "markdown",
   "metadata": {},
   "source": [
    "### Part 3D.\n",
    "Assume you are given multiple admissible heuristics for a problem and you're unsure about which heuristic is the best. You can use both heuristics by summing them to produce a new heuristic that is also admissible. "
   ]
  },
  {
   "cell_type": "markdown",
   "metadata": {},
   "source": [
    "False: While $\\frac{1}{n}h_1 + \\frac{1}{n}h_2 + ... + \\frac{1}{n}h_n$ works, simply summing the heuristics will likely make the estimates too large/pessimistic and thus, the new heuristic would not be admissible."
   ]
  },
  {
   "cell_type": "markdown",
   "metadata": {},
   "source": [
    "### Part 3E.\n",
    "\n",
    "Using the graph shown, describe why a heuristic must be admissible and consistent for A* search to find an optimal path. Be specific in your answer. \n",
    "\n",
    "Hint: Consider paths starting at $S$ and ending at $C$.\n",
    "\n",
    "![](../imgs/AStarGraph.png)"
   ]
  },
  {
   "cell_type": "markdown",
   "metadata": {},
   "source": [
    "An *admissible* heuristic never overestimates the distance from a node to the goal. For a heuristic to be *consistent*, the heuristic difference/step cost never overestimates the actual step cost. Along the sequence of nodes from start to goal that the heuristic recommends, a consistent heuristic should always remain constant or decrease in value. Because of this, a consistent heuristic is also always admissible.  \n",
    "\n",
    "For A* search to find an optimal path, the heuristic must eliminate any nonoptimal paths by being optimistic enough to have the search algorithm consider all possible paths. If it is not consistent and admissible, it may go down one path and find the goal before it is able to fully explore another possible solution. Therefore, it could miss the optimal solution.    \n",
    "\n",
    "Example: considering the graph shown and paths from S to C:  \n",
    "\n",
    "Let's say we used a heuristic that changed only h(A) to 5. The heuristic is no longer consistent since $5 \\leq (1 + 0)$ is not true. It is no longer admissible either since 5 is greater than the actual cost 3.    \n",
    "\n",
    "A* search would explore A, add (S,A) with cost 6 and (S,B) with cost 3 to the frontier, and explore B. Then (B,C) with cost 5 would be added and be explored since it's still lesser cost than (S,A). Since the goal node would be added to explored, the program would terminate. However, this is not the optimal solution for this graph. Thus, a consistent and admissible heuristic is necessary to always find an optimal path. \n",
    "\n"
   ]
  }
 ],
 "metadata": {
  "interpreter": {
   "hash": "d44c7fb805afb4b7572cc4b1220803728387a0d6c7bbf5e80f50fd0d71de28ee"
  },
  "kernelspec": {
   "display_name": "Python 3 (ipykernel)",
   "language": "python",
   "name": "python3"
  },
  "language_info": {
   "codemirror_mode": {
    "name": "ipython",
    "version": 3
   },
   "file_extension": ".py",
   "mimetype": "text/x-python",
   "name": "python",
   "nbconvert_exporter": "python",
   "pygments_lexer": "ipython3",
   "version": "3.9.7"
  }
 },
 "nbformat": 4,
 "nbformat_minor": 2
}
