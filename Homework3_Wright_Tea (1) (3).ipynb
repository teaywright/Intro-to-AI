{
 "cells": [
  {
   "cell_type": "markdown",
   "metadata": {},
   "source": [
    "---\n",
    "\n",
    "# CSCI 3202, Spring 2022\n",
    "# Homework 3\n",
    "# Due: Friday March 11, 2022 at 6:00 PM\n",
    "\n",
    "<br> \n",
    "\n",
    "### Your name: Téa Wright\n",
    "\n",
    "<br> "
   ]
  },
  {
   "cell_type": "markdown",
   "metadata": {},
   "source": [
    "---\n",
    "\n",
    "Some useful packages and libraries:\n",
    "\n"
   ]
  },
  {
   "cell_type": "code",
   "execution_count": 1,
   "metadata": {},
   "outputs": [],
   "source": [
    "import numpy as np\n",
    "import pandas as pd\n",
    "import matplotlib.pyplot as plt\n",
    "from matplotlib import colors\n",
    "from collections import deque\n",
    "import heapq\n",
    "import unittest\n",
    "from scipy import stats\n",
    "import copy as cp\n",
    "from time import time\n",
    "import time"
   ]
  },
  {
   "cell_type": "markdown",
   "metadata": {},
   "source": [
    "---\n",
    "\n",
    "## Problem 1: Game Theory - Playing \"intelligent\" Tic-Tac-Toe"
   ]
  },
  {
   "cell_type": "markdown",
   "metadata": {},
   "source": [
    "<img src=\"https://www.cookieshq.co.uk/images/2016/06/01/tic-tac-toe.png\" width=\"150\"/>\n",
    "\n",
    "\n",
    "\n",
    "### (1a)   Defining the Tic-Tac-Toe class structure\n",
    "\n",
    "Fill in this class structure for Tic-Tac-Toe using what we did during class as a guide.\n",
    "* `moves` is a list of tuples to represent which moves are available. Recall that we are using matrix notation for this, where the upper-left corner of the board, for example, is represented at (1,1).\n",
    "* `result(self, move, state)` returns a ***hypothetical*** resulting `State` object if `move` is made when the game is in the current `state`\n",
    "* `compute_utility(self, move, state)` calculates the utility of `state` that would result if `move` is made when the game is in the current `state`. This is where you want to check to see if anyone has gotten `nwin` in a row\n",
    "* `game_over(self, state)` - this wasn't a method, but it should be - it's a piece of code we need to execute repeatedly and giving it a name makes clear what task the piece of code performs. Returns `True` if the game in the given `state` has reached a terminal state, and `False` otherwise.\n",
    "* `utility(self, state, player)` also wasn't a method earlier, but also should be.  Returns the utility of the current state if the player is X and $-1 \\cdot$ utility if the player is O.\n",
    "* `display(self)` is a method to display the current game `state`, You get it for free! because this would be super frustrating without it.\n",
    "* `play_game(self, player1, player2)` returns an integer that is the utility of the outcome of the game (+1 if X wins, 0 if draw, -1 if O wins). `player1` and `player2` are functional arguments that we will deal with in parts **1b** and **1d**.\n",
    "\n",
    "Some notes:\n",
    "* Assume X always goes first.\n",
    "* Do **not** hard-code for 3x3 boards.\n",
    "* You may add attributes and methods to these classes as needed for this problem."
   ]
  },
  {
   "cell_type": "code",
   "execution_count": 2,
   "metadata": {},
   "outputs": [],
   "source": [
    "class State:\n",
    "    def __init__(self, moves):\n",
    "        self.to_move = 'X'\n",
    "        self.utility = 0\n",
    "        self.board = {}\n",
    "        self.moves = cp.copy(moves)\n",
    "\n",
    "        \n",
    "class TicTacToe:\n",
    "    \n",
    "    def __init__(self, nrow=3, ncol=3, nwin=3, nexp=0):\n",
    "        self.nrow = nrow\n",
    "        self.ncol = ncol\n",
    "        self.nwin = nwin\n",
    "#        moves = # insert your general list of nrow x ncol moves here\n",
    "        moves = [(row, col) for row in range(1, nrow + 1) for col in range(1, ncol + 1)]\n",
    "        self.state = State(moves)\n",
    "        self.nexp = nexp\n",
    "        self.num_states = 0\n",
    "\n",
    "    def result(self, move, state):\n",
    "        '''\n",
    "        What is the hypothetical result of move `move` in state `state` ?\n",
    "        move  = (row, col) tuple where player will put their mark (X or O)\n",
    "        state = a `State` object, to represent whose turn it is and form\n",
    "                the basis for generating a **hypothetical** updated state\n",
    "                that will result from making the given `move`\n",
    "        '''\n",
    "\n",
    "        new_state = cp.deepcopy(state)\n",
    "        new_state.board[move] = state.to_move\n",
    "        new_state.moves.remove(move)\n",
    "        new_state.to_move = 'O' if state.to_move=='X' else 'X'\n",
    "        new_state.utility = self.compute_utility(move, state)\n",
    "        \n",
    "        return new_state\n",
    "        \n",
    "\n",
    "        \n",
    "    def compute_utility(self, move, state):\n",
    "        '''\n",
    "        What is the utility of making move `move` in state `state`?\n",
    "        If 'X' wins with this move, return 1;\n",
    "        if 'O' wins return -1;\n",
    "        else return 0.\n",
    "        '''        \n",
    "        board = cp.deepcopy(state.board)\n",
    "        board[move] = state.to_move\n",
    "\n",
    "        row, col = move\n",
    "        player = state.to_move\n",
    "        ncol=3\n",
    "        nrow=3\n",
    "        nwin=3\n",
    "        \n",
    "        # check for row-wise win\n",
    "        in_a_row = 0\n",
    "        for c in range(1,ncol+1):\n",
    "            in_a_row += board.get((row,c))==player\n",
    "\n",
    "        # check for column-wise win\n",
    "        in_a_col = 0\n",
    "        for r in range(1,nrow+1):\n",
    "            in_a_col += board.get((r,col))==player\n",
    "\n",
    "        # check for NW->SE diagonal win\n",
    "        in_a_diag1 = 0\n",
    "        for r in range(row,0,-1):\n",
    "            in_a_diag1 += board.get((r,col-(row-r)))==player\n",
    "\n",
    "        for r in range(row+1,nrow+1):\n",
    "            in_a_diag1 += board.get((r,col-(row-r)))==player\n",
    "\n",
    "\n",
    "        # check for SW->NE diagonal win\n",
    "        in_a_diag2 = 0\n",
    "        for r in range(row,0,-1):\n",
    "            in_a_diag2 += board.get((r,col+(row-r)))==player\n",
    "\n",
    "        for r in range(row+1,nrow+1):\n",
    "            in_a_diag2 += board.get((r,col+(row-r)))==player\n",
    "\n",
    "\n",
    "        if nwin in [in_a_row, in_a_col, in_a_diag1, in_a_diag2]:\n",
    "            return 1 if player=='X' else -1\n",
    "        else:\n",
    "            return 0\n",
    "\n",
    "\n",
    "\n",
    "    def game_over(self, state):\n",
    "        '''game is over if someone has won (utility!=0) or there\n",
    "        are no more moves left'''\n",
    "\n",
    "        return state.utility!=0 or len(state.moves)==0 \n",
    "\n",
    "    \n",
    "    def utility(self, state, player):\n",
    "        '''Return the value to player; 1 for win, -1 for loss, 0 otherwise.'''\n",
    "\n",
    "        return state.utility if player=='X' else -state.utility        \n",
    "        \n",
    "    def display(self):\n",
    "        for row in range(1, self.nrow+1):\n",
    "            for col in range(1, self.ncol+1):\n",
    "                print(self.state.board.get((row, col), '.'), end=' ')\n",
    "            print()\n",
    "        \n",
    "    def play_game(self, player1, player2):\n",
    "        '''Play a game of tic-tac-toe!'''\n",
    "\n",
    "        turn_limit = self.nrow*self.ncol  # limit in case of buggy code\n",
    "        turn = 0\n",
    "        while turn<=turn_limit:\n",
    "            for player in [player1, player2]:\n",
    "                turn += 1\n",
    "                move = player(self)\n",
    "                self.state = self.result(move, self.state)\n",
    "                if self.game_over(self.state):\n",
    "                    #self.display()\n",
    "                    return self.state.utility  \n",
    "\n",
    "  "
   ]
  },
  {
   "cell_type": "markdown",
   "metadata": {},
   "source": [
    "### (1b) Define a random player\n",
    "\n",
    "Define a function `random_player` that takes a single argument of the `TicTacToe` class and returns a random move out of the available legal moves in the `state` of the `TicTacToe` game.\n",
    "\n",
    "In your code for the `play_game` method above, make sure that `random_player` could be a viable input for the `player1` and/or `player2` arguments."
   ]
  },
  {
   "cell_type": "code",
   "execution_count": 3,
   "metadata": {},
   "outputs": [],
   "source": [
    "def random_player(ttt):\n",
    "    '''A player that chooses a legal move at random out of all\n",
    "    available legal moves in Tic-Tac-Toe state argument'''\n",
    "\n",
    "    \n",
    "    possible_actions = ttt.state.moves\n",
    "    return possible_actions[np.random.randint(low=0, high=len(possible_actions))]\n",
    "\n"
   ]
  },
  {
   "cell_type": "markdown",
   "metadata": {},
   "source": [
    "We know from experience and/or because I'm telling you right now that if two `random_player`s play many games of Tic-Tac-Toe against one another, whoever goes first will win about 58% of the time.  Verify that this is the case by playing at least 1,000 games between two random players. Report the proportion of the games that the first player has won.\n",
    "\n",
    "**\"Unit tests\":** If you are wondering how close is close enough to 58%, I simulated 100 tournaments of 1,000 games each. The min-max range of win percentage by the first player was 54-63%."
   ]
  },
  {
   "cell_type": "code",
   "execution_count": 4,
   "metadata": {},
   "outputs": [
    {
     "name": "stdout",
     "output_type": "stream",
     "text": [
      "Player 1 Wins:  0.607\n",
      "Draws:  0.12\n",
      "Player 1 Losses:  0.273\n"
     ]
    }
   ],
   "source": [
    "# 1000 games between two random players\n",
    "player1_wins = 0\n",
    "draws = 0\n",
    "player1_losses = 0\n",
    "for i in range(1000):\n",
    "    t = TicTacToe(3,3,3)\n",
    "    result = t.play_game(random_player,random_player)\n",
    "    if   result == 1:\n",
    "        player1_wins = player1_wins + 1\n",
    "    elif result == 0:\n",
    "        draws = draws + 1\n",
    "    else:\n",
    "        player1_losses = player1_losses + 1\n",
    "print(\"Player 1 Wins: \",player1_wins/1000)\n",
    "print(\"Draws: \", draws/1000)\n",
    "print(\"Player 1 Losses: \", player1_losses/1000)"
   ]
  },
  {
   "cell_type": "markdown",
   "metadata": {},
   "source": [
    "### (1c) What about playing randomly on different-sized boards?\n",
    "\n",
    "What does the long-term win percentage appear to be for the first player in a 4x4 Tic-Tac-Toe tournament, where 4 marks must be connected for a win?  Support your answer using a simulation and printed output, similar to **1b**.\n",
    "\n",
    "**Also:** The win percentage should have changed substantially. Did the decrease in wins turn into more losses for the first player or more draws? Write a few sentences explaining the behavior you observed.  *Hint: think about how the size of the state space has changed.*"
   ]
  },
  {
   "cell_type": "code",
   "execution_count": 5,
   "metadata": {},
   "outputs": [
    {
     "name": "stdout",
     "output_type": "stream",
     "text": [
      "Player 1 Wins:  0.546\n",
      "Draws:  0.022\n",
      "Player 1 Losses:  0.432\n"
     ]
    }
   ],
   "source": [
    "# 1000 games between two random players\n",
    "player1_wins = 0\n",
    "draws = 0\n",
    "player1_losses = 0\n",
    "for i in range(1000):\n",
    "    t = TicTacToe(4,4,4)\n",
    "    result = t.play_game(random_player,random_player)\n",
    "    if   result == 1:\n",
    "        player1_wins = player1_wins + 1\n",
    "    elif result == 0:\n",
    "        draws = draws + 1\n",
    "    else:\n",
    "        player1_losses = player1_losses + 1\n",
    "print(\"Player 1 Wins: \",player1_wins/1000)\n",
    "print(\"Draws: \", draws/1000)\n",
    "print(\"Player 1 Losses: \", player1_losses/1000)"
   ]
  },
  {
   "cell_type": "markdown",
   "metadata": {},
   "source": [
    "The win percentage decreased by roughly 5%. Since draws decreased by about 10% as well, this indicates that the decrease in wins in 4x4 tic tac toe games turned into more losses for the first player."
   ]
  },
  {
   "cell_type": "markdown",
   "metadata": {},
   "source": [
    "### (1d) Define an alpha-beta player\n",
    "\n",
    "Alright. Let's finally get serious about our Tic-Tac-Toe game.  No more fooling around!\n",
    "\n",
    "Craft a function called `alphabeta_player` that takes a single argument of a `TicTacToe` class object and returns the minimax move in the `state` of the `TicTacToe` game. As the name implies, this player should be implementing alpha-beta pruning as described in the textbook and lecture.\n",
    "\n",
    "Note that your alpha-beta search for the minimax move should include function definitions for `max_value` and `min_value` (see the aggressively realistic pseudocode from the lecture slides).\n",
    "\n",
    "In your code for the `play_game` method above, make sure that `alphabeta_player` could be a viable input for the `player1` and/or `player2` arguments."
   ]
  },
  {
   "cell_type": "code",
   "execution_count": 6,
   "metadata": {},
   "outputs": [],
   "source": [
    "# Your code here\n",
    "\n",
    "def alphabeta_player(ttt):\n",
    "    \n",
    "    def max_value(state, alpha, beta):\n",
    "        if ttt.game_over(state):\n",
    "            return ttt.utility(state,player)\n",
    "        v = -float('inf')\n",
    "        for m in state.moves:\n",
    "            ttt.num_states = ttt.num_states + 1\n",
    "            v = max(v, min_value(ttt.result(m,state), alpha, beta))\n",
    "            if v >= beta:\n",
    "                return v\n",
    "            alpha = max(alpha, v)\n",
    "        return v\n",
    "    \n",
    "    def min_value(state,alpha,beta):\n",
    "        if ttt.game_over(state):\n",
    "            return ttt.utility(state,player)\n",
    "        v = float('inf')\n",
    "        for m in state.moves:\n",
    "            ttt.num_states = ttt.num_states + 1\n",
    "            v = min(v, max_value(ttt.result(m,state), alpha, beta))\n",
    "            if v < alpha:\n",
    "                return v\n",
    "            beta = min(beta, v)\n",
    "        return v\n",
    "    \n",
    "    \n",
    "    player = ttt.state.to_move\n",
    "    alpha = -float('inf')\n",
    "    beta = float('inf')\n",
    "    best_action = None\n",
    "    \n",
    "    #v = max_value(ttt.state, alpha, beta)\n",
    "    \n",
    "    #for m in ttt.state.moves:\n",
    "    #    if ttt.compute_utility(m, ttt.state) == v: return m\n",
    "    for m in ttt.state.moves:\n",
    "        v = min_value(ttt.result(m,ttt.state), alpha, beta)\n",
    "        if v > alpha:\n",
    "                alpha = v\n",
    "                best_action = m\n",
    "    return best_action"
   ]
  },
  {
   "cell_type": "markdown",
   "metadata": {},
   "source": [
    "Verify that your alpha-beta player code is working appropriately through the following tests, using a standard 3x3 Tic-Tac-Toe board. Run **10 games for each test**, and track the number of wins, draws and losses. Report these results for each case.\n",
    "\n",
    "1. An alpha-beta player who plays first should never lose to a random player who plays second.\n",
    "2. Two alpha-beta players should always draw.\n",
    "\n",
    "**Nota bene:** Test your code with fewer games between the players to start, because the alpha-beta player will require substantially more compute time than the random player.  This is why I only ask for 10 games, which still might take a minute or two. You are welcome to run more than 10 tests if you'd like. "
   ]
  },
  {
   "cell_type": "code",
   "execution_count": 7,
   "metadata": {
    "scrolled": true
   },
   "outputs": [
    {
     "name": "stdout",
     "output_type": "stream",
     "text": [
      "Player 1 Wins:  1.0\n",
      "Draws:  0.0\n",
      "Player 1 Losses:  0.0\n"
     ]
    }
   ],
   "source": [
    "#test against random player\n",
    "\n",
    "player1_wins1 = 0\n",
    "draws1 = 0\n",
    "player1_losses1 = 0\n",
    "\n",
    "for i in range(10):\n",
    "    t1 = TicTacToe(3,3,3)\n",
    "    result1 = t1.play_game(alphabeta_player,random_player)\n",
    "    if   result1 == 1:\n",
    "        player1_wins1 = player1_wins1 + 1\n",
    "    elif result1 == 0:\n",
    "        draws1 = draws1 + 1\n",
    "    else:\n",
    "        player1_losses1 = player1_losses1 + 1\n",
    "        \n",
    "print(\"Player 1 Wins: \",player1_wins1/10)\n",
    "print(\"Draws: \", draws1/10)\n",
    "print(\"Player 1 Losses: \", player1_losses1/10)\n"
   ]
  },
  {
   "cell_type": "code",
   "execution_count": 8,
   "metadata": {},
   "outputs": [
    {
     "name": "stdout",
     "output_type": "stream",
     "text": [
      "Player 1 Wins:  0.0\n",
      "Draws:  1.0\n",
      "Player 1 Losses:  0.0\n"
     ]
    }
   ],
   "source": [
    " #test against other ab player\n",
    "\n",
    "player1_wins2 = 0\n",
    "draws2 = 0\n",
    "player1_losses2 = 0\n",
    "\n",
    "for i in range(10):\n",
    "    t2 = TicTacToe(3,3,3)\n",
    "    result2 = t2.play_game(alphabeta_player,alphabeta_player)\n",
    "    if   result2 == 1:\n",
    "        player1_wins2 = player1_wins2 + 1\n",
    "    elif result2 == 0:\n",
    "        draws2 = draws2 + 1\n",
    "    else:\n",
    "        player1_losses2 = player1_losses2 + 1\n",
    "        \n",
    "print(\"Player 1 Wins: \",player1_wins2/10)\n",
    "print(\"Draws: \", draws2/10)\n",
    "print(\"Player 1 Losses: \", player1_losses2/10)"
   ]
  },
  {
   "cell_type": "markdown",
   "metadata": {},
   "source": [
    "### (1e) What has pruning ever done for us?\n",
    "\n",
    "Calculate the number of number of states expanded by the minimax algorithm, **with and without pruning**, to determine the minimax decision from the initial 3x3 Tic-Tac-Toe board state.  This can be done in many ways, but writing out all the states by hand is **not** one of them (as you will find out!).\n",
    "\n",
    "Then compute the percent savings that you get by using alpha-beta pruning. i.e. Compute $\\frac{\\text{Number of nodes expanded with pruning}}{\\text{Number of nodes expanded with minimax}} $\n",
    "\n",
    "Write a sentence or two, commenting on the difference in number of nodes expanded by each search."
   ]
  },
  {
   "cell_type": "code",
   "execution_count": 9,
   "metadata": {},
   "outputs": [
    {
     "name": "stdout",
     "output_type": "stream",
     "text": [
      "number of states expanded with pruning: 41146\n",
      "number of states expanded without pruning: 549945\n",
      "percent savings: 0.07481839093000209\n"
     ]
    }
   ],
   "source": [
    "def minimax(ttt):\n",
    "    \n",
    "    player = 1 if ttt.state.to_move == 'X' else -1\n",
    "\n",
    "    # Functions used by alphabeta\n",
    "    def max_value(state):\n",
    "        if ttt.game_over(state):\n",
    "            return state.utility*player\n",
    "        value = -float('inf')\n",
    "        for move in state.moves:\n",
    "            ttt.num_states = ttt.num_states + 1\n",
    "            value = max(value,min_value(ttt.result(move, state)))\n",
    "        return value\n",
    "\n",
    "    def min_value(state):\n",
    "        if ttt.game_over(state):\n",
    "            return state.utility*player\n",
    "        value = float('inf')\n",
    "        for move in state.moves:\n",
    "            ttt.num_states = ttt.num_states + 1\n",
    "            value = min(value,max_value(ttt.result(move, state)))\n",
    "        return value\n",
    "        \n",
    "    max_value(ttt.state)\n",
    "    return\n",
    "\n",
    "with_pruning = TicTacToe(3,3,3)\n",
    "alphabeta_player(with_pruning)\n",
    "n1 = with_pruning.num_states\n",
    "print('number of states expanded with pruning:',n1)\n",
    "\n",
    "without_pruning = TicTacToe(3,3,3)\n",
    "minimax(without_pruning)\n",
    "n2=without_pruning.num_states\n",
    "print('number of states expanded without pruning:',n2)\n",
    "\n",
    "print('percent savings:', n1/n2 )"
   ]
  },
  {
   "cell_type": "markdown",
   "metadata": {},
   "source": [
    "The number of states expanded with minimax is significantly higher than when alpha-beta pruning is utilized. Minimax has roughly 13 times the amount of nodes expanded, proving that pruning has a huge effect on efficiency and runtime. "
   ]
  },
  {
   "cell_type": "markdown",
   "metadata": {},
   "source": [
    "---\n",
    "\n",
    "## Problem 2: Maximizing an Objective Function with a Genetic Algorithm \n",
    "\n",
    "Suppose we've lost the index card with our favorite cupcake recipe. We know the ingredients of the cake, but cannot remember the exact amount of each ingredient. We decide to use a genetic algorithm to generate the  ingredient amounts. With each iteration of the genetic algorithm, we bake the cupcakes and taste-test them. We achieve our goal and stop running the genetic algorithm when we get to the actual recipe: \n",
    "\n",
    "* 1 tsp salt \n",
    "* 3 tsp baking powder \n",
    "* 2 cups all-purpose flour \n",
    "* 1 cup butter \n",
    "* 1 cup granulated sugar \n",
    "* 4 large eggs\n",
    "* 1 tsp vanilla extract\n",
    "* 1 cup buttermilk "
   ]
  },
  {
   "cell_type": "code",
   "execution_count": 10,
   "metadata": {},
   "outputs": [],
   "source": [
    "target = [1, 3, 2, 1, 1, 4, 1, 1]"
   ]
  },
  {
   "cell_type": "markdown",
   "metadata": {},
   "source": [
    "An example starting state for a member of our population might look like: $state = [1, 2, 100, 36, 60, 3, 5, 50]$\n",
    "\n",
    "### (2a) \n",
    "\n",
    "Write an objective function `def recipe_success(state)` that takes a single argument state, and returns the objective function value (fitness) of the state. The objective function should be maximized when a state reaches the target. You could for example define the fitness score of a particular state based on how far away each entry is from the target recipe."
   ]
  },
  {
   "cell_type": "code",
   "execution_count": 11,
   "metadata": {},
   "outputs": [],
   "source": [
    "def recipe_success(state):\n",
    "    sum = 0\n",
    "    for i in range(8):\n",
    "        n = abs(target[i] - state[i])\n",
    "        sum += n\n",
    "    return sum"
   ]
  },
  {
   "cell_type": "code",
   "execution_count": 12,
   "metadata": {},
   "outputs": [
    {
     "name": "stdout",
     "output_type": "stream",
     "text": [
      "success 1\n",
      "success 2\n"
     ]
    }
   ],
   "source": [
    "# Write your own test case to make sure that the target element achieves\n",
    "# the fitness score you would expect it to (this will vary depending on\n",
    "# what you did here.)\n",
    "if(recipe_success(state=[2,4,3,2,2,5,2,2])==8):\n",
    "    print(\"success 1\")\n",
    "if(recipe_success(state=[1,2,100,36,60,3,5,50])==247):\n",
    "    print(\"success 2\")"
   ]
  },
  {
   "cell_type": "markdown",
   "metadata": {},
   "source": [
    "### (2b) \n",
    "\n",
    "Using our in class notebook \"Lecture 19 - Genetic Algorithms.ipynb\" as your guide, write a genetic algorithm that starts with a population of 100 randomly generated \"recipes/states/members\" and uses the objective function you wrote in **(2a)** to hopefully hit the target after a certain number of generations. \n",
    "\n",
    "Key components of your code:\n",
    "- Generate the initial population randomly from integers between 0 and 100 \n",
    "- Allow for mutations in your population with an overall probability of mutation set to p = 0.2\n",
    "- Choose 2 \"parents\" in the generation of each \"child\"\n",
    "- Choose a random split point at which to combine the two \"parents\"\n",
    "- Run the algorithm for 50 iterations (\"generations\"). Do you hit your target?"
   ]
  },
  {
   "cell_type": "code",
   "execution_count": 13,
   "metadata": {},
   "outputs": [],
   "source": [
    "initial_population = []\n",
    "for i in range(100):\n",
    "    recipe = []\n",
    "    for j in range(8):\n",
    "        n = np.random.randint(0,101)\n",
    "        recipe.append(n)\n",
    "    initial_population.append(recipe)"
   ]
  },
  {
   "cell_type": "code",
   "execution_count": 14,
   "metadata": {},
   "outputs": [],
   "source": [
    "class problem:\n",
    "    \n",
    "    def __init__(self, initial_population, objective_function, mutation_probability, fitness_goal):\n",
    "        '''\n",
    "        initial_population = list of lists; each sub-list is a dna string for a population member\n",
    "        objective_function = objective function to maximize\n",
    "        mutation_probability = probability that any given child has a mutation\n",
    "        fitness_goal = fitness goal to achieve (stopping criterion, once member reaches this)\n",
    "        '''\n",
    "        self.population = initial_population\n",
    "        self.initial_population = initial_population\n",
    "        self.objective_function = objective_function\n",
    "        self.p_mutate = mutation_probability\n",
    "        self.n_pop = len(initial_population)\n",
    "        self.n_dna = len(initial_population[0])\n",
    "        self.fitness_goal = fitness_goal\n",
    "\n",
    "    def fitness(self):\n",
    "        '''\n",
    "        calculate each population member's probability of being selected for\n",
    "        reproduction based on performance on objective function\n",
    "        '''\n",
    "        performance = []\n",
    "        for k in range(self.n_pop):\n",
    "            performance.append(self.objective_function(self.population[k]))\n",
    "        total = sum(performance)\n",
    "        p_reproduce = [perf/sum(performance) for perf in performance]\n",
    "        return p_reproduce\n",
    "        \n",
    "    def reproduce(self, parent1, parent2):\n",
    "        # last DNA snippet from parent1:\n",
    "        split = np.random.randint(low=1, high=self.n_dna)\n",
    "        child = parent1[:split] + parent2[split:]\n",
    "        return child\n",
    "\n",
    "    def mutate(self, child):\n",
    "        # which gene to mutate?\n",
    "        gene = np.random.randint(low=0, high=self.n_dna)\n",
    "        if child[gene]==0:\n",
    "            child[gene]=1\n",
    "        elif child[gene]==1:\n",
    "            child[gene]=0\n",
    "        return child\n",
    "    \n",
    "    "
   ]
  },
  {
   "cell_type": "code",
   "execution_count": 15,
   "metadata": {},
   "outputs": [],
   "source": [
    "def genetic_algorithm(problem, n_iter):\n",
    "    \n",
    "    for t in range(n_iter):\n",
    "        \n",
    "        new_generation = []\n",
    "        \n",
    "        for k in range(problem.n_pop):\n",
    "            \n",
    "            # select for reproduction\n",
    "            p_reproduce = problem.fitness()\n",
    "            ind_parents = np.random.choice(range(0,problem.n_pop), size=2, p=p_reproduce, replace=False)\n",
    "            parent1, parent2 = problem.population[ind_parents[0]], problem.population[ind_parents[1]]\n",
    "            \n",
    "            # reproduce\n",
    "            child = problem.reproduce(parent1, parent2)\n",
    "            \n",
    "            # mutate\n",
    "            l_mutate = np.random.choice([True, False], p=[problem.p_mutate, 1-problem.p_mutate])\n",
    "            if l_mutate:\n",
    "                child = problem.mutate(child)\n",
    "            \n",
    "            # add to new generation\n",
    "            new_generation.append(child)\n",
    "        \n",
    "        # set problem.population = new generation\n",
    "        problem.population = new_generation\n",
    "        \n",
    "        # exit criterion check\n",
    "        performance = [problem.objective_function(member) for member in problem.population]\n",
    "        \n",
    "        best_member = min(zip(performance, problem.population))\n",
    "        \n",
    "        if best_member[0] >= problem.fitness_goal: #change\n",
    "            return best_member\n",
    "\n",
    "    print('reached n_iter')\n",
    "\n",
    "    return False"
   ]
  },
  {
   "cell_type": "code",
   "execution_count": 16,
   "metadata": {},
   "outputs": [
    {
     "name": "stdout",
     "output_type": "stream",
     "text": [
      "(224, [28, 18, 24, 52, 5, 2, 66, 39])\n"
     ]
    }
   ],
   "source": [
    "genetic_problem = problem(initial_population=initial_population, fitness_goal=0, mutation_probability=0.2, objective_function=recipe_success)\n",
    "out = genetic_algorithm(genetic_problem,50)\n",
    "print(out)"
   ]
  },
  {
   "cell_type": "markdown",
   "metadata": {},
   "source": [
    "### (2c)\n",
    "\n",
    "Report the following:\n",
    "- How many generations did it take to hit the goal?\n",
    "- If you change the initial population size to 200, does that change the number of generations it takes to achieve the goal recipe?\n",
    "- If you change the probability of mutation, does that affect the number of generations it takes to achieve the goal recipe? How so?\n",
    "\n",
    "Alternate questions to answer if Target not hit:\n",
    "- Report whether you minimized of maximized the objective function and whether that led to any major changes in how you designed the probability of reproduction. A couple sentences here is fine.\n",
    " \n",
    "- Report how many ingredients you ended up matching. e.g. target = [0.5, 3, 2.5, 1, 1.5, 4, 1, 1.25], perhaps your algorithm achieved [1.5, 3, 8, 1, 1, 100, 56, 1, 1.25], then you would have matched 4 of the ingredient values.\n",
    " \n",
    "- Report how many iterations you tried in order to get this answer. (Don't burn up your machine in the process)"
   ]
  },
  {
   "cell_type": "markdown",
   "metadata": {},
   "source": [
    "I minimized the objective function, but did not change any probability of reproduction. I ended up matching only 1 of the ingredients(the result changed when I restarted the kernel). I tried 10,000 iterations, but the result did not change much."
   ]
  },
  {
   "cell_type": "markdown",
   "metadata": {},
   "source": [
    "---\n",
    "\n",
    "## Problem 3:  Calibrating a model for global mean sea level changes\n",
    "\n",
    "<img src=\"http://www.anthropocenemagazine.org/wp-content/uploads/2017/05/future-sea-levels.jpg\" width=\"250\">\n",
    "\n",
    "**Part A:** Load and plot some data.\n",
    "\n",
    "Let's load a couple data sets.  `data_sealevel.csv` is a data set of global mean sea levels, and the other, `data_temperature.csv` is a data set of global mean temperatures. The following bullets discuss the quantities of interest. \n",
    "* `sealevel` will be a list of global mean sea levels (millimeters). This data is found in a column which resides within the `data_sealevel.csv`\n",
    "* `sealevel_sigma` will be a list of the *uncertainty* in global mean sea levels (millimeters). Use the column labeled `uncertainty` within the `data_sealevel.csv` file to obtain this data, and\n",
    "* `temperature` will be a list of global mean temperatures (degrees Celsius). This data is in the `temperature` column in the `data_temperature.csv` file\n"
   ]
  },
  {
   "cell_type": "code",
   "execution_count": 17,
   "metadata": {},
   "outputs": [],
   "source": [
    "# Here is the suggested code to load in the data files. Feel free to modify these as you wish, but that\n",
    "# is not necessary.\n",
    "\n",
    "year = []\n",
    "sealevel = []\n",
    "sealevel_sigma = []\n",
    "temperature = []\n",
    "\n",
    "dfSealevel = pd.read_csv(\"data/data_sealevel.csv\")\n",
    "dfTemperature = pd.read_csv(\"data/data_temperature.csv\")\n",
    "\n",
    "# We aren't doing any heavy-duty stats stuff, so let's just keep what we need as regular lists\n",
    "year = dfSealevel[\"year\"].tolist()\n",
    "sealevel = dfSealevel[\"sealevel\"].tolist()\n",
    "sealevel_sigma = dfSealevel[\"uncertainty\"].tolist()\n",
    "temperature = dfTemperature[\"temperature\"].tolist()"
   ]
  },
  {
   "cell_type": "markdown",
   "metadata": {},
   "source": [
    "**Part A (i):**\n",
    "\n",
    "- Make three plots for Global mean surface temperature, Sea level (mm), and Sea Level Uncertainty (mm). The x-axis for each of these plots will be the years over which this data was collected. \n",
    "\n",
    "- Plot the data points as a scatter plots, and plot the three plots side-by-side-by-side (one row, three columns of figures). The point here is learn how to customize your figures a bit more, and also because computer screens are (typically) wider than they are tall."
   ]
  },
  {
   "cell_type": "code",
   "execution_count": 18,
   "metadata": {},
   "outputs": [
    {
     "data": {
      "image/png": "[encoded data removed]",
      "text/plain": [
       "<Figure size 1152x432 with 3 Axes>"
      ]
     },
     "metadata": {
      "needs_background": "light"
     },
     "output_type": "display_data"
    }
   ],
   "source": [
    "fig, axes = plt.subplots(nrows = 1, ncols = 3, figsize=(16,6))\n",
    "axes[0].scatter(year,temperature)\n",
    "axes[0].set_title(\"Global Mean Surface Temperature\", fontsize=20)\n",
    "axes[0].set_xlabel(\"Year\", fontsize=16)\n",
    "axes[0].set_ylabel(\"Temperature(C)\", fontsize=16)\n",
    "axes[0].grid(alpha=0.25)\n",
    "axes[0].set_axisbelow(True)\n",
    "\n",
    "axes[1].scatter(year,sealevel)\n",
    "axes[1].set_title(\"Sea Level\", fontsize=20)\n",
    "axes[1].set_xlabel(\"Year\", fontsize=16)\n",
    "axes[1].set_ylabel(\"Sea Level(mm)\", fontsize=16)\n",
    "axes[1].grid(alpha=0.25)\n",
    "axes[1].set_axisbelow(True)\n",
    "\n",
    "axes[2].scatter(year,sealevel_sigma)\n",
    "axes[2].set_title(\"Sea Level Uncertainty\", fontsize=20)\n",
    "axes[2].set_xlabel(\"Year\", fontsize=16)\n",
    "axes[2].set_ylabel(\"Uncertainty(mm)\", fontsize=16)\n",
    "axes[2].grid(alpha=0.25)\n",
    "axes[2].set_axisbelow(True)"
   ]
  },
  {
   "cell_type": "markdown",
   "metadata": {},
   "source": [
    "**Part A (ii):** How does the uncertainty in global mean sea levels change as a function of time?  When is the uncertainty the highest?  Give one reason why you think this might be the case."
   ]
  },
  {
   "cell_type": "markdown",
   "metadata": {},
   "source": [
    "Uncertainty decreases steadily until roughly 1960, where it stays relatively constant until ~2010, where it appears to be beginning to increase again. Uncertainty is the highest at the first data point from the 19th century. One reason why this may be the case is because uncertainty is affected by the quantity of data among other factors. Since there was much less data on sea level in that time period, the uncertainty is higher. As technology got better and they were able to obtain more and better readings, the uncertainty begins to decrease."
   ]
  },
  {
   "cell_type": "markdown",
   "metadata": {},
   "source": [
    "---\n",
    "\n",
    "**Part B:**  The \"out-of-box\" sea-level model\n",
    "\n",
    "In your plot from **(a)**, you should see quite an apparent relationship between increasing temperatures and rising sea levels.  Seeems like someone should try to model the relationship between those two, huh?\n",
    "\n",
    "In the helper function, slr, below, a simple model for temperature-driven changes in global mean sea level (GMSL) is defined. This is the model of [Rahmstorf (2007)](http://science.sciencemag.org/content/315/5810/368).\n",
    "\n",
    "The `slr` model takes two parameters, $\\alpha$ and $T_{eq}$, and requires a time series of global mean temperatures: `slr(alpha, Teq, temperature)`.\n",
    "* `alpha` is the sensitivity of sea-level changes to changes in global temperature. The units for $\\alpha$ are millimeters of sea-level changes per year, or mm y$^{-1}$.\n",
    "* `Teq` is the equilibrium global mean temperature, with units of degrees Celsius.\n",
    "* `temperature` is the time series of global mean surface temperatures, assumed to be relative to the 1961-1990 mean.\n",
    "\n",
    "For now, you do not need to worry too much about how this model works.  It is very simple, and widely used, but the point here is that you can plug in a particular set of temperatures (the model **forcing**) and parameters ($\\alpha$ and $T_{eq}$), and out pops a time series of simulated global mean sea levels.\n",
    "\n",
    "**Our goal:**  pick good values for $\\alpha$ and $T_{eq}$, so that when we run the `slr` model using the observations of temperature (which we plotted above), the model output matches well the observations of global mean sea level (which we also plotted above).\n",
    "\n",
    "The whole process of figuring out what these good parameter values are is called **model calibration**, and it's awesome.  Model Calibration is the point of this problem. Let's have a look at why we need to do this in the first place, shall we?\n",
    "\n",
    "The default parameter choices given in the Rahmstorf (2007) paper are $\\alpha=3.4$ mm y$^{-1}$ and $T_{eq} = -0.5\\ ^{\\circ}$C.\n",
    "\n",
    "**Your task for Part B:**\n",
    "\n",
    "Make a plot that contains:\n",
    "* the observed sea level data as scatter points\n",
    "* the modeled sea levels as a line, using the temperature observations from above as the `temperature` input\n",
    "* an appropriate legend and axis labels\n",
    "* $x$ axis is years\n",
    "* $y$ axis is sea level\n",
    "\n",
    "Note that after you run the `slr` model, you will need to **normalize** the output relative to the 1961-1990 reference period.  That is because you are going to compare it against data that is also normalized against this reference period. The `years` that correspond to the model output should be the same as the `years` that correspond to the `temperature` input. Normalizing data can mean several things. Follow the steps outlined below to \"normalize\" the data in the way needed for this problem:\n",
    "- Compute the mean of the output of the slr model for the years from 1961-1990 (inclusive).\n",
    "- Subtract this value from each entry in the \"sealevel\" list (list returned by the slr function)\n",
    "\n",
    "\n",
    "Make sure that you normalize the data prior to plotting."
   ]
  },
  {
   "cell_type": "code",
   "execution_count": 19,
   "metadata": {},
   "outputs": [],
   "source": [
    "# helpers\n",
    "\n",
    "def slr(alpha, Teq, temperature):\n",
    "    '''sea-level emulator of Rahmstorf 2007 (DOI: 10.1126/science.1135456)\n",
    "    Takes global mean temperature as forcing, and parameters:\n",
    "    alpha = temperature sensitivity of sea level rise, and\n",
    "    Teq   = equilibrium temperature,\n",
    "    and calculates a rise/fall in sea levels, based on whether the temperature\n",
    "    is warmer/cooler than the equilibrium temperature Teq.\n",
    "    Here, we are only worrying about alpha (for now!)'''\n",
    "\n",
    "    n_time = len(temperature)\n",
    "    deltat = 1\n",
    "    sealevel = [0]*n_time\n",
    "    sealevel[0] = -134\n",
    "    for t in range(n_time-1):\n",
    "        sealevel[t+1] = sealevel[t] + deltat*alpha*(temperature[t]-Teq)\n",
    "\n",
    "    return sealevel"
   ]
  },
  {
   "cell_type": "code",
   "execution_count": 20,
   "metadata": {},
   "outputs": [],
   "source": [
    "idx_1961 = year.index(1961)\n",
    "idx_1991 = year.index(1991)\n",
    "\n",
    "mean_sealevel = np.mean(sealevel[idx_1961: idx_1991])\n",
    "\n",
    "model = slr(3.4,-0.5,temperature)\n",
    "slr_sum = 0\n",
    "for x in range(idx_1961,idx_1991):\n",
    "    slr_sum = slr_sum + model[x]\n",
    "mean_slr = slr_sum/30\n",
    "\n",
    "#normalize data\n",
    "norm_sealevel = []\n",
    "for level in sealevel:\n",
    "    norm_sealevel.append(level - mean_sealevel)\n",
    "\n",
    "#normalize modeled data\n",
    "\n",
    "for i in range(len(model)):\n",
    "    model[i] = model[i] - mean_slr"
   ]
  },
  {
   "cell_type": "code",
   "execution_count": 21,
   "metadata": {},
   "outputs": [
    {
     "data": {
      "text/plain": [
       "<matplotlib.legend.Legend at 0x7ffc44831b50>"
      ]
     },
     "execution_count": 21,
     "metadata": {},
     "output_type": "execute_result"
    },
    {
     "data": {
      "image/png": "[encoded data removed]",
      "text/plain": [
       "<Figure size 576x576 with 1 Axes>"
      ]
     },
     "metadata": {
      "needs_background": "light"
     },
     "output_type": "display_data"
    }
   ],
   "source": [
    "fig, ax = plt.subplots(figsize=(8,8))\n",
    "ax.scatter(year,norm_sealevel,label='Observed sea level data')\n",
    "ax.plot(year,model, label='Modeled sea level data')\n",
    "ax.set_title(\"Observed vs Modeled Sea Level\", fontsize=20)\n",
    "ax.set_xlabel(\"Year\", fontsize=16)\n",
    "ax.set_ylabel(\"Sea Level(mm)\", fontsize=16)\n",
    "ax.grid(alpha=0.25)\n",
    "ax.set_axisbelow(True)\n",
    "ax.legend()\n"
   ]
  },
  {
   "cell_type": "markdown",
   "metadata": {},
   "source": [
    "Your plot above ought to show decent match for the late 1900s, but diverge a bit further back in time.\n",
    "\n",
    "**The point:**  We can do better than this \"out-of-the-box\" version of the Rahmstorf sea level model."
   ]
  },
  {
   "cell_type": "markdown",
   "metadata": {},
   "source": [
    "**Part C:**   Figuring out our objective function\n",
    "\n",
    "As our **objective function**, we will use the joint likelihood function of the observed sea level data, given the model simulation.  The following is a detailed description of the derivation of the objective funciton for a hill climbing routine. **Note, you do not need to do anything for this part other than to read about the objective function and execute the cell below, then move to part D.**\n",
    "\n",
    "For a single data point in year $i$, $y_i$, with associated uncertainty $\\sigma_i$, we can assume the likelihood for our model simulation in year $i$, $\\eta_i$, follows a normal distribution centered at the data point.  The model simulation is a **deterministic** result of our parameter choices $\\alpha$ and $T_{eq}$, so we write the likelihood as:\n",
    "\n",
    "$$L(y_i \\mid \\alpha, T_{eq}) = \\dfrac{1}{\\sqrt{2 \\pi} \\sigma_i} e^{-\\dfrac{(\\eta_i(\\alpha, T_{eq}) - y_i)^2}{2\\sigma_i^2}}$$\n",
    "\n",
    "But that only uses a single data point.  Let's use all the data!  The **joint likelihood** is the product of all of the likelihoods associated with the individual data points. But that is the product of a lot of numbers that are less than 1, so it will be **tiny**.  Instead, we should try to optimize the **joint log-likelihood**, which is simply the (natural) logarithm of the joint likelihood function.\n",
    "\n",
    "If we assume the observational data ($y_i$) are all independent, then the joint log-likelihood is:\n",
    "\n",
    "$$l(\\mathbf{y} \\mid \\alpha, T_{eq}) = -\\dfrac{N}{2} \\log{(2\\pi)} - \\sum_{i=1}^N \\log{(\\sigma_i)} - \\dfrac{1}{2}\\sum_{i=1}^N \\left( \\dfrac{\\eta_i(\\alpha, T_{eq}) - y_i}{\\sigma_i} \\right)^2$$\n",
    "\n",
    "where, $\\mathbf{y} = [y_1, y_2, \\ldots, y_N]$ is the entire vector (list) of sea level observations, $\\eta(\\alpha, T_{eq}) = [\\eta_1(\\alpha, T_{eq}), \\eta_2(\\alpha, T_{eq}), \\ldots, \\eta_N(\\alpha, T_{eq})]$ is the entire vector (list) of `slr` model output when the parameter values $\\alpha$ and $T_{eq}$ are used, and $N$ is the number of observations we have."
   ]
  },
  {
   "cell_type": "markdown",
   "metadata": {},
   "source": [
    "**Defining our objective function**\n",
    "\n",
    "Now define a `log_likelihood(parameters, obs_mu, obs_sigma)` function:\n",
    "* `parameters`: argument that is a list of two parameter values, $[\\alpha, T_{eq}]$\n",
    "  * within the likelihood function, you will need to generate the model simulation $\\eta(\\alpha, T_{eq})$ using the input `parameters`, for comparison against the observational data\n",
    "* `obs_temp`: argument that is a time series (list) of observed global mean temperatures, that will be used to run the `slr` model. Provide a default value of `temperature` for this, because we only have one temperature data set to use, and we don't want to keep \n",
    "* `obs_mu`: argument that is a time series (list) of observed values, that will be used for comparison against the `model` output. Provide a default value of `sealevel` here, because we won't be changing the observational data.\n",
    "* `obs_sigma`: argument that is a time series (list) of the corresponding uncertainties in the observational data. Simiarly, provide a default value of `sealevel_sigma` here, so we can avoid the tedious task of sending the data set into this function.\n",
    "* all three of these inputs should be lists, and should be the same length\n",
    "* this routine should return a **single** float number, that is the joint log-likelihood of the given `model` simulation."
   ]
  },
  {
   "cell_type": "code",
   "execution_count": 22,
   "metadata": {},
   "outputs": [],
   "source": [
    "# Here is the objective function. You will be using this function below when you code up hill-climbing and \n",
    "# simulated annealing routines.\n",
    "\n",
    "def log_likelihood(parameters, obs_temp=temperature, obs_mu=sealevel, obs_sigma=sealevel_sigma):\n",
    "    model = slr(alpha=parameters[0], Teq=parameters[1], temperature=temperature)\n",
    "    \n",
    "    # normalize\n",
    "    reference = (year.index(1961), year.index(1990))\n",
    "    model -= np.mean(model[reference[0]:(reference[1]+1)])\n",
    "\n",
    "    return np.sum([np.log(stats.norm.pdf(x=model, loc=obs_mu, scale=obs_sigma))])"
   ]
  },
  {
   "cell_type": "markdown",
   "metadata": {},
   "source": [
    "**Part D:**  Defining our class structure\n",
    "\n",
    "Now we will apply a hill-climbing algorithm to tune the $\\alpha$ and $T_{eq}$ parameters.\n",
    "\n",
    "Using our in-class lecture notebook on hill-climbing as a guide, do the following:\n",
    "\n",
    "* Define a `State` class, with attributes for the parameter values (which define the state) and the objective function value of that state.\n",
    "* Define a `Problem_hillclimb` **sub-class** of the more general class `Problem`, with:\n",
    "  * attributes for the current `State` (a `State` object), the `objective_function` (the log-likelihood defined above), and `stepsize`. You will need to play around to decide what an appropriate stepsize is. Keep in mind that you may need a different stepsize for each of $\\alpha$ and $T_{eq}$.\n",
    "  * methods for `moves` (return the list of all possible moves from the current state) and `best_move` (return the move that maximizes the objective function).\n",
    "  * the `moves` available should be in proper 2-dimensional space.  Do **not** simply optimize one parameter, keeping the other fixed, then optimize the other parameter, while keeping the first fixed.  (*That method *can* work, but there are some theoretical issues that would need to be tackled, and we are not getting into that here.*) You are allowed to restrict yourself to movements along a grid, as long as you entertain steps in both the $\\alpha$ and the $T_{eq}$ directions.\n",
    "* Define the `hill_climb` algorithm, with any necessary modifications (here, and in the above classes) for the new 2-dimensional state space.\n",
    "  * `hill_climb(problem, n_iter)`:  arguments are a `Problem_hillclimb` object and number of iterations, `n_iter`\n",
    "  * return a `State` that corresponds to the algorithm's guess at a global maximum"
   ]
  },
  {
   "cell_type": "code",
   "execution_count": 23,
   "metadata": {},
   "outputs": [],
   "source": [
    "class state:\n",
    "\n",
    "    def __init__(self, parameters, value):\n",
    "        self.parameters = (parameters[0],parameters[1])\n",
    "        self.value = value    \n",
    "\n",
    "class problem:\n",
    "    \n",
    "    def __init__(self, initial, objective_function, stepsize):\n",
    "        self.initial_state = initial\n",
    "        self.current_state = initial\n",
    "        self.objective_function = objective_function\n",
    "        self.stepsize_alpha = stepsize[0]\n",
    "        self.stepsize_teq = stepsize[1]\n",
    "        \n",
    "        \n",
    "class problem_hillclimb(problem):\n",
    "    \n",
    "    \n",
    "    def moves(self):\n",
    "        '''return all possible moves to make from the current_state'''\n",
    "        all_moves = []\n",
    "        all_moves.append((self.current_state.parameters[0] + self.stepsize_alpha, self.current_state.parameters[1] + self.stepsize_teq))\n",
    "        all_moves.append((self.current_state.parameters[0] + self.stepsize_alpha, self.current_state.parameters[1] - self.stepsize_teq))\n",
    "        all_moves.append((self.current_state.parameters[0] - self.stepsize_alpha, self.current_state.parameters[1] + self.stepsize_teq))\n",
    "        all_moves.append((self.current_state.parameters[0] - self.stepsize_alpha, self.current_state.parameters[1] - self.stepsize_teq))\n",
    "        return all_moves\n",
    "    \n",
    "    def best_move(self):\n",
    "        '''return the best move possible from the current_state'''\n",
    "        all_moves = self.moves()\n",
    "        #calc objective function value for each possible move\n",
    "        alpha_index = 0\n",
    "        teq_index = 0\n",
    "        max_alpha = self.objective_function([all_moves[0][0], self.current_state.parameters[1]])\n",
    "        max_teq = self.objective_function([self.current_state.parameters[0], all_moves[0][1]])\n",
    "        \n",
    "        for i, m in enumerate(all_moves):\n",
    "            if max_alpha <= self.objective_function([m[0], self.current_state.parameters[1]]):\n",
    "                max_alpha = self.objective_function([m[0], self.current_state.parameters[1]])\n",
    "                alpha_index = i\n",
    "                \n",
    "            if max_teq <= self.objective_function([self.current_state.parameters[0], m[1]]):\n",
    "                max_teq = self.objective_function([self.current_state.parameters[0], m[1]])\n",
    "                teq_index = i   \n",
    "        \n",
    "        best_alpha = all_moves[alpha_index][0]\n",
    "        best_teq = all_moves[teq_index][1]\n",
    "        \n",
    "        if self.objective_function([self.current_state.parameters[0], best_teq]) <= self.objective_function([best_alpha, self.current_state.parameters[1]]):\n",
    "            return best_alpha, self.current_state.parameters[1]\n",
    "        else:\n",
    "            return self.current_state.parameters[0], best_teq\n",
    "\n",
    "        \n",
    "    \n",
    "def hill_climb(problem, n_iter):\n",
    "    # iterate until we can't do any better\n",
    "    for k in range(n_iter):\n",
    "        move = problem.best_move()\n",
    "        if problem.current_state.value <= problem.objective_function(move):\n",
    "            problem.current_state.parameters = move\n",
    "            problem.current_state.value = problem.objective_function(problem.current_state.parameters)\n",
    "        else:\n",
    "            return problem.current_state\n",
    "    print('reached n_iter')\n",
    "    return False\n",
    "\n",
    "    \n",
    "    "
   ]
  },
  {
   "cell_type": "code",
   "execution_count": null,
   "metadata": {},
   "outputs": [],
   "source": []
  },
  {
   "cell_type": "markdown",
   "metadata": {},
   "source": [
    "Now:\n",
    "1. define an initial state object, using the default values from Rahmstorf 2007 as a starting point.\n",
    "2. define a hill-climbing problem object, using this initial state, the log-likelihood objective function, and stepsize(s) of your choosing. (The stepsize(s) may require some playing around to find something you are happy with.)\n",
    "3. ***hill-climb!!!*** Use a number of iterations that you deem appropriate. \n",
    "\n",
    "Play around until you have a simulation that you are happy with.  Then:\n",
    "1. Print to screen the parameter values and corresponding log-likelihood value.\n",
    "2. Compare this calibrated log-likelihood value to the \"out-of-box\" model (above).\n",
    "3. Make a plot of:\n",
    "  * the sea level observations as scatter points\n",
    "  * the uncalibrated model as one line\n",
    "  * the calibrated model as another line\n",
    "  * include axis labels and a legend\n",
    "  \n",
    "**\"Unit tests\":**\n",
    "* As a benchmark, make sure that your log-likelihood is *at least* -500.\n",
    "* Your calibrated (optimized) model simulation should be going straight through the data points.\n",
    "* If this isn't the case, remember to normalize your model against the 1961-1990 reference period!"
   ]
  },
  {
   "cell_type": "code",
   "execution_count": 24,
   "metadata": {},
   "outputs": [
    {
     "name": "stdout",
     "output_type": "stream",
     "text": [
      "alpha = 2.599999999999999 t_eq = -0.7400000000000002 log-likelihood = -475.3420413531085\n"
     ]
    },
    {
     "data": {
      "text/plain": [
       "<matplotlib.legend.Legend at 0x7ffc44f7cdc0>"
      ]
     },
     "execution_count": 24,
     "metadata": {},
     "output_type": "execute_result"
    },
    {
     "data": {
      "image/png": "[encoded data removed]",
      "text/plain": [
       "<Figure size 576x576 with 1 Axes>"
      ]
     },
     "metadata": {
      "needs_background": "light"
     },
     "output_type": "display_data"
    }
   ],
   "source": [
    "initial_state = state(parameters=[3.4,-0.5], value=log_likelihood([3.4,-0.5]))\n",
    "\n",
    "h = problem_hillclimb(initial=initial_state, objective_function=log_likelihood, stepsize=[0.1,0.02])\n",
    "res = hill_climb(h, n_iter=1000)\n",
    "print('alpha =', res.parameters[0], 't_eq =', res.parameters[1], 'log-likelihood =', res.value)\n",
    "\n",
    "model_prime = slr(res.parameters[0], res.parameters[1], temperature)\n",
    "mean_model_prime = np.mean(model_prime[idx_1961:idx_1991])\n",
    "for x in range(len(model_prime)):\n",
    "    model_prime[x] = model_prime[x] - mean_model_prime\n",
    "\n",
    "fig, ax = plt.subplots(figsize=(8,8))\n",
    "ax.scatter(year,norm_sealevel,label='Observed sea level data')\n",
    "ax.plot(year, model, label='Modeled sea level data')\n",
    "ax.plot(year,model_prime, label='Hillclimbing Modeled sea level data')\n",
    "ax.set_title(\"Sea Level with Hillclimbing\", fontsize=20)\n",
    "ax.set_xlabel(\"Year\", fontsize=16)\n",
    "ax.set_ylabel(\"Sea Level(mm)\", fontsize=16)\n",
    "ax.grid(alpha=0.25)\n",
    "ax.set_axisbelow(True)\n",
    "ax.legend()\n"
   ]
  },
  {
   "cell_type": "markdown",
   "metadata": {},
   "source": [
    "**Part E:**  Simulated annealing\n",
    "\n",
    "Let's re-calibrate the `slr` model. This time, we will use **simulated annealing**. Again, using our in-class activity as a guide, do the following:\n",
    "\n",
    "* Continue to use your `State` class above.\n",
    "* Define a `Problem_annealing` sub-class of the `Problem` class, with:\n",
    "  * attributes for the current `State` (a `State` object), the `objective_function` (the log-likelihood defined above), and `stepsize`. You will need to play around to decide what an appropriate stepsize is. Keep in mind that you may need a different stepsize for each of $\\alpha$ and $T_{eq}$.\n",
    "  * method for `random_move`, to pick a random move **by drawing from a multivariate normal distribution**.  You should use the `stepsize` attribute as the covariance (width) for this.\n",
    "* Define the `simulated_annealing` algorithm, with any necessary modifications (here, and in the above classes) for the new 2-dimensional state space.\n",
    "  * `simulated_annealing(problem, n_iter)`:  arguments are a `Problem_annealing` object and number of iterations, `n_iter`\n",
    "  * return a `State` that corresponds to the algorithm's guess at a global maximum\n",
    "\n",
    "Subject to the above constraints, you may implement these however you would like."
   ]
  },
  {
   "cell_type": "code",
   "execution_count": 25,
   "metadata": {},
   "outputs": [],
   "source": [
    "class problem_annealing(problem):\n",
    "    \n",
    "    def __init__(self, initial, objective_function, schedule_function, stepsize):\n",
    "        problem.__init__(self, initial, objective_function, stepsize)\n",
    "        self.schedule_function = schedule_function\n",
    "    \n",
    "    def random_move(self):\n",
    "        mean = self.current_state.parameters\n",
    "        steps = [[self.stepsize_alpha, 0],[0, self.stepsize_teq ]]\n",
    "        #Multivariate normal dist\n",
    "        m = np.random.multivariate_normal(mean, steps, 1).T\n",
    "        return [m[0][0], m[1][0]]\n",
    "\n",
    "\n",
    "def schedule(time):\n",
    "    C = 3\n",
    "    p = 2\n",
    "    temperature = C/(time+1)**p\n",
    "    return temperature\n",
    "    \n",
    "def simulated_annealing(problem,n_iter):\n",
    "    for t in range(n_iter):\n",
    "        temp = schedule(time.perf_counter())\n",
    "        random_move = problem.random_move()\n",
    "        delta_obj = problem.objective_function(random_move) - problem.current_state.value\n",
    "        if delta_obj > 0:\n",
    "            problem.current_state.parameters = random_move\n",
    "            problem.current_state.value = problem.objective_function(random_move)\n",
    "        else:\n",
    "            p_accept = np.exp(delta_obj /temp)\n",
    "            choices = np.array([[random_move], [problem.current_state.parameters]])\n",
    "            idx = np.random.choice(len(choices),1, p=[p_accept, 1-p_accept])\n",
    "            problem.current_state.parameters = choices[idx][0][0]\n",
    "            problem.current_state.value = problem.objective_function(problem.current_state.parameters)\n",
    "    return problem.current_state"
   ]
  },
  {
   "cell_type": "markdown",
   "metadata": {},
   "source": [
    "Now:\n",
    "1. define an initial state object, using the default values from Rahmstorf 2007 as a starting point.\n",
    "2. define a simulated annealing problem object, using this initial state, the log-likelihood objective function, an appropriate temperature updating schedule and stepsize(s) of your choosing. (The stepsize(s) may require some playing around to find something you are happy with.)\n",
    "  * note that this \"temperature\" is distinct from the actual physical temperature used as input to drive the `slr` model\n",
    "3. ***anneal!!!*** Use a number of iterations that you deem appropriate. \n",
    "\n",
    "Play around until you have a simulation that you are happy with.  Then:\n",
    "1. Print to screen the parameter values and corresponding log-likelihood value.\n",
    "2. Compare this calibrated log-likelihood value to the \"out-of-box\" model (above).\n",
    "3. Make a plot of:\n",
    "  * the sea level observations as scatter points\n",
    "  * the uncalibrated model as one line\n",
    "  * the calibrated model as another line\n",
    "  * include axis labels and a legend\n",
    "  \n",
    "**\"Unit tests\":**  How does your model look when you plot it against the data? If it doesn't look good, then you failed this unit test :("
   ]
  },
  {
   "cell_type": "code",
   "execution_count": 26,
   "metadata": {},
   "outputs": [
    {
     "name": "stdout",
     "output_type": "stream",
     "text": [
      "alpha = 1.9042035897157674 t_eq = -0.9730784032780994 log likelihood = -465.4990627131385\n"
     ]
    },
    {
     "data": {
      "text/plain": [
       "<matplotlib.legend.Legend at 0x7ffc44f7c040>"
      ]
     },
     "execution_count": 26,
     "metadata": {},
     "output_type": "execute_result"
    },
    {
     "data": {
      "image/png": "[encoded data removed]",
      "text/plain": [
       "<Figure size 576x576 with 1 Axes>"
      ]
     },
     "metadata": {
      "needs_background": "light"
     },
     "output_type": "display_data"
    }
   ],
   "source": [
    "initial_state = state(parameters=[3.4,-0.5], value=log_likelihood([3.4,-0.5]))\n",
    "\n",
    "h_anneal = problem_annealing(initial=initial_state, objective_function=log_likelihood, schedule_function = schedule, stepsize=[0.1,0.02])\n",
    "res_anneal = simulated_annealing(h_anneal, 1000)\n",
    "print('alpha =', res_anneal.parameters[0], 't_eq =', res_anneal.parameters[1], 'log likelihood =', res_anneal.value)\n",
    "\n",
    "model_anneal = slr(res_anneal.parameters[0], res_anneal.parameters[1], temperature)\n",
    "mean_model_anneal = np.mean(model_anneal[idx_1961:idx_1991])\n",
    "for x in range(len(model_anneal)):\n",
    "    model_anneal[x] = model_anneal[x] - mean_model_anneal\n",
    "\n",
    "fig, ax = plt.subplots(figsize=(8,8))\n",
    "ax.scatter(year,norm_sealevel,label='Observed sea level data')\n",
    "ax.plot(year, model, label='Modeled sea level data')\n",
    "ax.plot(year,model_anneal, label='Simulated Annealing Modeled sea level data')\n",
    "ax.set_title(\"Sea Level with Annealing\", fontsize=20)\n",
    "ax.set_xlabel(\"Year\", fontsize=16)\n",
    "ax.set_ylabel(\"Sea Level(mm)\", fontsize=16)\n",
    "ax.grid(alpha=0.25)\n",
    "ax.set_axisbelow(True)\n",
    "ax.legend()"
   ]
  },
  {
   "cell_type": "markdown",
   "metadata": {},
   "source": [
    "**Part F:**\n",
    "\n",
    "Briefly summarize your findings. Specifically discuss the $\\alpha$ and $T_{eq}$ parameter values you found in **Part D** and **Part E**. How do these compare to the parameters of the model given by Rahmstorf? Did your hill-climbing and/or your simulated annealing programs find a better fit than the Rahmstorf model? "
   ]
  },
  {
   "cell_type": "markdown",
   "metadata": {},
   "source": [
    "The initial parameters were 3.4 and -0.5 for $\\alpha$ and $T_{eq}$.  \n",
    "The parameters found in part D were $\\alpha = 2.60$ and $T_{eq} = -0.74$.    \n",
    "The parameters found in part E were $\\alpha = 1.89$ and $T_{eq} = -0.98$.    \n",
    "\n",
    "Both the hillclimbing and simulated annealing models have a lower $\\alpha$ value as well as a more negative $T_{eq}$.  The hillclimbing and simulated annealing programs both found a much better fit than the Rahmstorf model, as they match the actual data throughout the whole timeline rather than only matching well aftre 1960."
   ]
  }
 ],
 "metadata": {
  "kernelspec": {
   "display_name": "Python 3 (ipykernel)",
   "language": "python",
   "name": "python3"
  },
  "language_info": {
   "codemirror_mode": {
    "name": "ipython",
    "version": 3
   },
   "file_extension": ".py",
   "mimetype": "text/x-python",
   "name": "python",
   "nbconvert_exporter": "python",
   "pygments_lexer": "ipython3",
   "version": "3.9.7"
  }
 },
 "nbformat": 4,
 "nbformat_minor": 2
}
